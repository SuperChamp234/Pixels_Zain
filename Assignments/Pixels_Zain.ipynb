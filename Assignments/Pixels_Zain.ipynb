{
 "cells": [
  {
   "cell_type": "markdown",
   "metadata": {
    "id": "iiomo2JZF4xk"
   },
   "source": [
    "# Assignment\n",
    "\n"
   ]
  },
  {
   "cell_type": "markdown",
   "metadata": {},
   "source": [
    "## A few basic exercises\n",
    "### Variable Assignment\n",
    "* Try a program to display your name using a variable\n",
    "* Try changing that variable in code itself to something else\n",
    "* Try assiging one variable to other and changing one's value\n"
   ]
  },
  {
   "cell_type": "code",
   "execution_count": 42,
   "metadata": {},
   "outputs": [
    {
     "name": "stdout",
     "output_type": "stream",
     "text": [
      "name\n"
     ]
    }
   ],
   "source": [
    "a= \"name\"\n",
    "b= \"surname\"\n",
    "\n",
    "# Write code to print the variable a \n",
    "print(a)\n",
    "############\n",
    "\n",
    "# Write Code to Change variable a into 30\n",
    "a = 30\n",
    "############\n",
    "\n",
    "# Write Code to assign variable a the value of b\n",
    "b = a\n",
    "############\n"
   ]
  },
  {
   "cell_type": "markdown",
   "metadata": {},
   "source": [
    "### Multiple Assignment\n",
    "\n",
    "* Try Reversing the assignements i.e. new a should be 3, b should be 2 and c should be 1"
   ]
  },
  {
   "cell_type": "code",
   "execution_count": 43,
   "metadata": {},
   "outputs": [
    {
     "name": "stdout",
     "output_type": "stream",
     "text": [
      "3 2 1\n"
     ]
    }
   ],
   "source": [
    "a,b,c = 1,2,3\n",
    "\n",
    "## write a single line code to reverse a,b,c using multiple assignment\n",
    "c,b,a = a,b,c\n",
    "######\n",
    "print(a,b,c)"
   ]
  },
  {
   "cell_type": "markdown",
   "metadata": {},
   "source": [
    "### String\n",
    "\n",
    "* Try reversing string in one line as compared to conventional loops\n"
   ]
  },
  {
   "cell_type": "code",
   "execution_count": 44,
   "metadata": {},
   "outputs": [
    {
     "name": "stdout",
     "output_type": "stream",
     "text": [
      "!tset a si siht\n"
     ]
    }
   ],
   "source": [
    "string = \"this is a test!\"\n",
    "\n",
    "## Write Code to reverse string in one line\n",
    "string = string[::-1]\n",
    "##\n",
    "\n",
    "print(string)"
   ]
  },
  {
   "cell_type": "markdown",
   "metadata": {
    "id": "QMpTD6PQzkHZ"
   },
   "source": [
    "# Operators"
   ]
  },
  {
   "cell_type": "markdown",
   "metadata": {
    "id": "jBP8kRW4z2lv"
   },
   "source": [
    "You are provided with a list of Clubs in VJTI:\n",
    "clubs = ['SRA' , 'Aero' , 'Racing' , 'DSC' , 'COC']\n",
    "And a list of clubs you are a member of:\n",
    "membership= ['SRA' , 'DSC']\n",
    "\n",
    "You have to perform the following tasks:\n",
    "\n",
    "1.   Create a boolean list respective to the clubs you are a member of without using the '==' operator:\n",
    "Expected output: [true,false,false,true,false] HINT: use the membership operator\n",
    "\n",
    "2.   Convert the boolean list into a list of binary one or zero without using the operator '=='. Expected output: [1,0,0,1,0]\n",
    "HINT: Check out identity operator"
   ]
  },
  {
   "cell_type": "code",
   "execution_count": 45,
   "metadata": {
    "id": "hWE8HMmFzy8j"
   },
   "outputs": [
    {
     "name": "stdout",
     "output_type": "stream",
     "text": [
      "[1, 0, 0, 1, 0]\n"
     ]
    }
   ],
   "source": [
    "clubs = ['SRA' , 'Aero' , 'Racing' , 'DSC' , 'COC'] \n",
    "membership= ['SRA' , 'DSC']\n",
    "# Write your code here\n",
    "# Boolean list of clubs\n",
    "clubs_membership = [club in membership for club in clubs]\n",
    "# Convert the boolean list into a list of binary one or zero without using the operator '=='. Expected output: [1,0,0,1,0]\n",
    "clubs_membership = [1 if x else 0 for x in clubs_membership]\n",
    "print (clubs_membership)"
   ]
  },
  {
   "cell_type": "markdown",
   "metadata": {
    "id": "LTbYqBpx2W8h"
   },
   "source": [
    "You are provided with the following:\n",
    "expression = 4_6_9_3_23_19\n",
    "Using the operators: +,-,*, /, % in places of the _ make an expression that reads the value: 25.0."
   ]
  },
  {
   "cell_type": "code",
   "execution_count": 46,
   "metadata": {
    "id": "mKaJrL6w3oR3"
   },
   "outputs": [
    {
     "name": "stdout",
     "output_type": "stream",
     "text": [
      "46932319\n",
      "25.0\n"
     ]
    }
   ],
   "source": [
    "expression = 4_6_9_3_23_19 \n",
    "print(expression)\n",
    "# write your code here\n",
    "# Using the operators: +,-,*, /, % in places of the _ make an expression that reads the value: 25.0.\n",
    "expression = 4*6-9/3+23%19\n",
    "print(expression)"
   ]
  },
  {
   "cell_type": "markdown",
   "metadata": {
    "id": "gaciSf_w3wdN"
   },
   "source": [
    "# Control Statements"
   ]
  },
  {
   "cell_type": "markdown",
   "metadata": {
    "id": "C3wLYw-Y32Ap"
   },
   "source": [
    "Complete the for loop such that whenever there is an prime number it prints the number plus \"I was a prime\" in the same line, otherwise it prints nothing.  \n",
    "\n",
    "\n",
    "Using the looping statement and the control statements  \n",
    "\n"
   ]
  },
  {
   "cell_type": "code",
   "execution_count": 47,
   "metadata": {
    "id": "9O0v4M2C5CAq"
   },
   "outputs": [
    {
     "name": "stdout",
     "output_type": "stream",
     "text": [
      "0 I was a prime\n",
      "1 I was a prime\n",
      "2 I was a prime\n",
      "3 I was a prime\n",
      "5 I was a prime\n",
      "7 I was a prime\n",
      "11 I was a prime\n",
      "13 I was a prime\n",
      "17 I was a prime\n",
      "19 I was a prime\n",
      "23 I was a prime\n",
      "29 I was a prime\n",
      "31 I was a prime\n",
      "37 I was a prime\n",
      "41 I was a prime\n",
      "43 I was a prime\n",
      "47 I was a prime\n",
      "53 I was a prime\n",
      "59 I was a prime\n",
      "61 I was a prime\n",
      "67 I was a prime\n",
      "71 I was a prime\n",
      "73 I was a prime\n",
      "79 I was a prime\n",
      "83 I was a prime\n",
      "89 I was a prime\n",
      "97 I was a prime\n"
     ]
    }
   ],
   "source": [
    "from math import sqrt\n",
    "for i in range(100):\n",
    "  isPrime = True\n",
    "  # Write Code here\n",
    "  for j in range(2,int(sqrt(i)+1)):\n",
    "    if i%j==0:\n",
    "      isPrime = False\n",
    "  if not isPrime:\n",
    "    continue\n",
    "  #Don't tamper the next line\n",
    "  print(str(i)  + \" I was a prime\")"
   ]
  },
  {
   "cell_type": "markdown",
   "metadata": {
    "id": "-_wYEMJPS3pq"
   },
   "source": [
    "# Lists"
   ]
  },
  {
   "cell_type": "markdown",
   "metadata": {
    "id": "-ZdE30HvLh2G"
   },
   "source": [
    "Write a Python program to count the number of strings where the string length is 2 or more and the first and last character are same from a given list of strings. Go to the editor  \n",
    "**Sample Input** :['abc', 'xyz', 'aba', '1221']   \n",
    "**Sample Output** :2  \n",
    "**Explanation** :'aba' and '1221' have length greater than 2 and also has matching first and last character.   "
   ]
  },
  {
   "cell_type": "code",
   "execution_count": 48,
   "metadata": {
    "id": "Xk1x-6zrSpYo"
   },
   "outputs": [
    {
     "name": "stdout",
     "output_type": "stream",
     "text": [
      "2\n"
     ]
    }
   ],
   "source": [
    "list1 = ['abc','xyz','aba','1221']\n",
    "# Write your code here\n",
    "count = 0\n",
    "for i in list1:\n",
    "    if len(i)>=2 and i[0]==i[-1]:\n",
    "        count+=1\n",
    "print(count)"
   ]
  },
  {
   "cell_type": "markdown",
   "metadata": {
    "id": "PFEX3PKtSwj3"
   },
   "source": [
    "Write a Python program to print the numbers of a specified list after removing even numbers from it.  \n",
    "**Hint** : Use List Comprehension"
   ]
  },
  {
   "cell_type": "code",
   "execution_count": 49,
   "metadata": {
    "id": "csR4tZzLVXTq"
   },
   "outputs": [
    {
     "name": "stdout",
     "output_type": "stream",
     "text": [
      "[1, 3, 11, 3]\n"
     ]
    }
   ],
   "source": [
    "# Write your code here\n",
    "#Write a Python program to print the numbers of a specified list after removing even numbers from it.  \n",
    "list1 = [1,4,3,6,8,11,3]\n",
    "print([x for x in list1 if x%2!=0])"
   ]
  },
  {
   "cell_type": "markdown",
   "metadata": {
    "id": "P3dm0udUVcmB"
   },
   "source": [
    "# Dictionaries"
   ]
  },
  {
   "cell_type": "markdown",
   "metadata": {
    "id": "7pZi-gqWVhpy"
   },
   "source": [
    "Delete set of keys (keysToRemove) from a dictionary and display the resultant dictionary  \n",
    "**Given** : The \"sampleDict\" dictionary has already been defined in the below code ."
   ]
  },
  {
   "cell_type": "markdown",
   "metadata": {
    "id": "Z8gkalnDXoo1"
   },
   "source": [
    "**Expected Output**:\n",
    "{'city': 'New york', 'age': 25}"
   ]
  },
  {
   "cell_type": "code",
   "execution_count": 50,
   "metadata": {
    "id": "Z8zSdTdBZpMr"
   },
   "outputs": [
    {
     "name": "stdout",
     "output_type": "stream",
     "text": [
      "{'age': 25, 'city': 'New york'}\n"
     ]
    }
   ],
   "source": [
    "# Given Dictionary\n",
    "sampleDict = {\n",
    "  \"name\": \"Kelly\",\n",
    "  \"age\":25,\n",
    "  \"salary\": 8000,\n",
    "  \"city\": \"New york\"\n",
    "  \n",
    "}\n",
    "\n",
    "# remove the keys present in the list below from the dictionary \n",
    "keysToRemove = [\"name\", \"salary\"]\n",
    "\n",
    "# Write your code here\n",
    "for i in keysToRemove:\n",
    "  sampleDict.pop(i)\n",
    "print(sampleDict)"
   ]
  },
  {
   "cell_type": "markdown",
   "metadata": {
    "id": "rV5O1kFoXvY4"
   },
   "source": [
    "Write a program in Python to read the admission number, name of student and his/her stream of 10 students and create a dictionary from this information. print the dictionary "
   ]
  },
  {
   "cell_type": "code",
   "execution_count": 51,
   "metadata": {
    "id": "y9-SY12sY0_7"
   },
   "outputs": [
    {
     "name": "stdout",
     "output_type": "stream",
     "text": [
      "{'10': {'name': 'John', 'stream': 'CSE\\n'}, '23': {'name': 'Mary', 'stream': 'CSE\\n'}, '45': {'name': 'Peter', 'stream': 'MTECH\\n'}, '67': {'name': 'May', 'stream': 'MTECH\\n'}, '89': {'name': 'June', 'stream': 'MTECH\\n'}, '43': {'name': 'July', 'stream': 'ARTS\\n'}, '56': {'name': 'August', 'stream': 'ARTS\\n'}, '78': {'name': 'September', 'stream': 'ARTS\\n'}, '90': {'name': 'October', 'stream': 'ARTS\\n'}, '34': {'name': 'November', 'stream': 'DIPLOMA'}}\n"
     ]
    }
   ],
   "source": [
    "# Write your code here \n",
    "#Write a program in Python to read the admission number, name of student and his/her stream of 10 students and create a dictionary from this information. print the dictionary\n",
    "import os\n",
    "notebook_path = os.path.abspath(\"Assignment_PythonBasics.ipynb\")\n",
    "txtpath = os.path.join(os.path.dirname(notebook_path), \"students.txt\")\n",
    "f = open(txtpath, \"r\")\n",
    "student_dict = {}\n",
    "#10,John,CSE\n",
    "for i in f:\n",
    "    #three variables\n",
    "    student_id, student_name, student_stream = i.split(\",\")\n",
    "    student_dict[student_id] = {\n",
    "        \"name\": student_name,\n",
    "        \"stream\": student_stream\n",
    "    }\n",
    "print(student_dict)"
   ]
  },
  {
   "cell_type": "markdown",
   "metadata": {
    "id": "jBT1hgBV4J_k"
   },
   "source": [
    "# Sets and Tuples"
   ]
  },
  {
   "cell_type": "markdown",
   "metadata": {
    "id": "aO3KNdm74kIC"
   },
   "source": [
    "Check if two sets have any elements in common. If yes, display the common elements.\n",
    "\n",
    "set1 = {10, 20, 30, 40, 50}\n",
    "\n",
    "set2 = {60, 70, 80, 90, 10}\n",
    "\n",
    "\n",
    "**Expected output:**\n",
    "\n",
    "Two sets have items in common\n",
    "\n",
    "{10}"
   ]
  },
  {
   "cell_type": "code",
   "execution_count": 52,
   "metadata": {
    "id": "TiXKBh1p4UUe"
   },
   "outputs": [
    {
     "name": "stdout",
     "output_type": "stream",
     "text": [
      "{10}\n"
     ]
    }
   ],
   "source": [
    "set1 = {10, 20, 30, 40, 50}\n",
    "set2 = {60, 70, 80, 90, 10}\n",
    "\n",
    "# Write your code here to get common elements among them\n",
    "#print common elements in set 1 and 2\n",
    "print(set1.intersection(set2))"
   ]
  },
  {
   "cell_type": "markdown",
   "metadata": {
    "id": "CEKFqNN05nNS"
   },
   "source": [
    "Write a Python program to replace last value of tuples in a list.\n",
    "\n",
    "**Sample list:** [(10, 20, 40), (40, 50, 60), (70, 80, 90)]\n",
    "\n",
    "**Expected Output:** [(10, 20, 100), (40, 50, 100), (70, 80, 100)]"
   ]
  },
  {
   "cell_type": "code",
   "execution_count": 53,
   "metadata": {
    "id": "e9v1bRDU4tyC"
   },
   "outputs": [
    {
     "name": "stdout",
     "output_type": "stream",
     "text": [
      "[(10, 20, 100), (40, 50, 100), (70, 80, 100)]\n"
     ]
    }
   ],
   "source": [
    "list1 = [(10, 20, 40), (40, 50, 60), (70, 80, 90)]\n",
    "# Write your code here to replace last value of tuples in the list\n",
    "#replace last value of tuples in the list\n",
    "replace_var = 100\n",
    "list1 = list(map(lambda x: (x[0], x[1], replace_var), list1))\n",
    "print(list1)"
   ]
  },
  {
   "cell_type": "markdown",
   "metadata": {
    "id": "DwM6tKlaIlhO"
   },
   "source": [
    "## Functions"
   ]
  },
  {
   "cell_type": "markdown",
   "metadata": {
    "id": "zrFBbZ48Ivqy"
   },
   "source": [
    "1) Write a function called ```showNumbers``` that takes a parameter called limit. It should print all the numbers between 0 and limit with a label to identify the even and odd numbers. For example, if the limit is 3, it should print:\n",
    "* 0 EVEN\n",
    "* 1 ODD\n",
    "* 2 EVEN\n",
    "* 3 ODD\n"
   ]
  },
  {
   "cell_type": "code",
   "execution_count": 54,
   "metadata": {
    "id": "eo2hNDAkIue-"
   },
   "outputs": [
    {
     "name": "stdout",
     "output_type": "stream",
     "text": [
      "0 EVEN\n",
      "1 ODD\n",
      "2 EVEN\n",
      "3 ODD\n"
     ]
    }
   ],
   "source": [
    "# Write Your code here\n",
    "# Write a function called showNumbers that takes a parameter called limit. It should print all the numbers between 0 and limit with a label to identify the even and odd numbers. For example, if the limit is 3, it should print:\n",
    "def showNumbers(limit):\n",
    "    for i in range(limit+1):\n",
    "        if i%2==0:\n",
    "            print(i,\"EVEN\")\n",
    "        else:\n",
    "            print(i,\"ODD\")\n",
    "showNumbers(3)\n"
   ]
  },
  {
   "cell_type": "markdown",
   "metadata": {
    "id": "0olNjioRJezU"
   },
   "source": [
    "2) Write a function that takes limit(integer) as a paramter and prints all the prime numbers between 0 and limit.\n",
    "\n",
    "\n"
   ]
  },
  {
   "cell_type": "code",
   "execution_count": 55,
   "metadata": {
    "id": "707mKltkJoyY"
   },
   "outputs": [
    {
     "name": "stdout",
     "output_type": "stream",
     "text": [
      "2\n",
      "3\n",
      "5\n",
      "7\n"
     ]
    }
   ],
   "source": [
    "# Write your code here\n",
    "# Write a function that takes limit(integer) as a paramter and prints all the prime numbers between 0 and limit.\n",
    "def prime_numbers(limit):\n",
    "    for i in range(2,limit+1):\n",
    "        if (i%2==0 and i!=2) or (i%3==0 and i!=3) or (i%5==0 and i!=5) or (i%7==0 and i!=7):\n",
    "            continue\n",
    "        else:\n",
    "            print(i)\n",
    "prime_numbers(10)"
   ]
  },
  {
   "cell_type": "markdown",
   "metadata": {
    "id": "Drl7IbTFIBhf"
   },
   "source": [
    "# Classes and Objects"
   ]
  },
  {
   "cell_type": "markdown",
   "metadata": {
    "id": "njc5QPZeJlN7"
   },
   "source": [
    "Write a Python Program to create a class named **Student**. \n",
    "- It should be initialised with attributes like **name, age, rollno, favourite subject**(a single subject).\n",
    "\n",
    "- Write a class method **getDetails()** which prints the name, age and rollno of the object in the below format.\n",
    " \n",
    "  * **Expected Output Format**\n",
    "> Name   : <em>name</em></br>\n",
    "> Age    : <em>age</em></br>\n",
    "> RollNo : <em>rollno</em></br>\n",
    "\n",
    "  * **Expected Example Output**\n",
    "> Name : Gautam</br>\n",
    "Age : 20</br>\n",
    "RollNo : 68\n",
    "\n",
    "- Now, there is a list **fav_list** such that it contains a list of subjects which are favourite to the Principal.\n",
    "\n",
    "  ``` python\n",
    "    fav_list = [\"EG\",\"Mechanics\",\"Chemistry\"]\n",
    "  ``` \n",
    "- You have to write a class Method **isFav()** which returns a boolean value i.e either <em>**true**</em> if any of the favourite subject of the principal matches with that of the student. Think of some suitable logic here.\n",
    "\n",
    "- Create 2 objects of class **Student** with attributes of your choice taken via user input.\n",
    "\n",
    "- Call Both the methods for both the objects. **Note** - Print the result of the **isFav()** method.\n",
    "\n",
    "- **Bonus Task** - Write the body of **isFav()** method in just one line."
   ]
  },
  {
   "cell_type": "code",
   "execution_count": 56,
   "metadata": {
    "id": "hWPxBx0fIOWp"
   },
   "outputs": [
    {
     "name": "stdout",
     "output_type": "stream",
     "text": [
      "John 20 123 EG\n",
      "True\n",
      "Mary 21 124 Physics\n",
      "False\n"
     ]
    }
   ],
   "source": [
    "\n",
    "class Student:\n",
    "    def __init__(self, name, age, rollno, favsubject):\n",
    "        self.name = name\n",
    "        self.age = age\n",
    "        self.rollno = rollno\n",
    "        self.favsubject = favsubject\n",
    "    def getDetails(self):\n",
    "        print(self.name, self.age, self.rollno, self.favsubject)\n",
    "    fav_list = [\"EG\",\"Mechanics\",\"Chemistry\"]\n",
    "    def isFav(self):\n",
    "        return self.favsubject in self.fav_list\n",
    "student1 = Student(\"John\", 20, \"123\", \"EG\")\n",
    "student2 = Student(\"Mary\", 21, \"124\", \"Physics\")\n",
    "student1.getDetails()\n",
    "print(student1.isFav())\n",
    "student2.getDetails()\n",
    "print(student2.isFav())\n"
   ]
  }
 ],
 "metadata": {
  "colab": {
   "collapsed_sections": [],
   "name": "Python_Pixels_seminar",
   "provenance": [],
   "toc_visible": true
  },
  "kernelspec": {
   "display_name": "Python 3 (ipykernel)",
   "language": "python",
   "name": "python3"
  },
  "language_info": {
   "codemirror_mode": {
    "name": "ipython",
    "version": 3
   },
   "file_extension": ".py",
   "mimetype": "text/x-python",
   "name": "python",
   "nbconvert_exporter": "python",
   "pygments_lexer": "ipython3",
   "version": "3.10.4"
  }
 },
 "nbformat": 4,
 "nbformat_minor": 1
}
